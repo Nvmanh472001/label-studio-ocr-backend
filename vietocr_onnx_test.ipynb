{
 "cells": [
  {
   "cell_type": "code",
   "execution_count": 1,
   "metadata": {},
   "outputs": [],
   "source": [
    "import onnxruntime as ort\n",
    "\n",
    "en_sess = ort.InferenceSession(\"./onnx/ocr_encoder.onnx\")\n",
    "de_sess = ort.InferenceSession(\"./onnx/ocr_decoder.onnx\")"
   ]
  },
  {
   "cell_type": "code",
   "execution_count": 2,
   "metadata": {},
   "outputs": [
    {
     "name": "stderr",
     "output_type": "stream",
     "text": [
      "/home/lhnguyen/.miniconda3/envs/kie-ner/lib/python3.9/site-packages/tqdm/auto.py:21: TqdmWarning: IProgress not found. Please update jupyter and ipywidgets. See https://ipywidgets.readthedocs.io/en/stable/user_install.html\n",
      "  from .autonotebook import tqdm as notebook_tqdm\n"
     ]
    },
    {
     "data": {
      "text/plain": [
       "{'vocab': 'aAàÀảẢãÃáÁạẠăĂằẰẳẲẵẴắẮặẶâÂầẦẩẨẫẪấẤậẬbBcCdDđĐeEèÈẻẺẽẼéÉẹẸêÊềỀểỂễỄếẾệỆfFgGhHiIìÌỉỈĩĨíÍịỊjJkKlLmMnNoOòÒỏỎõÕóÓọỌôÔồỒổỔỗỖốỐộỘơƠờỜởỞỡỠớỚợỢpPqQrRsStTuUùÙủỦũŨúÚụỤưƯừỪửỬữỮứỨựỰvVwWxXyYỳỲỷỶỹỸýÝỵỴzZ0123456789!\"#$%&\\'()*+,-./:;<=>?@[\\\\]^_`{|}~ ',\n",
       " 'device': 'cpu',\n",
       " 'seq_modeling': 'transformer',\n",
       " 'transformer': {'d_model': 256,\n",
       "  'nhead': 8,\n",
       "  'num_encoder_layers': 6,\n",
       "  'num_decoder_layers': 6,\n",
       "  'dim_feedforward': 2048,\n",
       "  'max_seq_length': 1024,\n",
       "  'pos_dropout': 0.1,\n",
       "  'trans_dropout': 0.1},\n",
       " 'optimizer': {'max_lr': 0.0003, 'pct_start': 0.1},\n",
       " 'trainer': {'batch_size': 32,\n",
       "  'print_every': 200,\n",
       "  'valid_every': 4000,\n",
       "  'iters': 100000,\n",
       "  'export': './weights/transformerocr.pth',\n",
       "  'checkpoint': './checkpoint/transformerocr_checkpoint.pth',\n",
       "  'log': './train.log',\n",
       "  'metrics': None},\n",
       " 'dataset': {'name': 'data',\n",
       "  'data_root': './img/',\n",
       "  'train_annotation': 'annotation_train.txt',\n",
       "  'valid_annotation': 'annotation_val_small.txt',\n",
       "  'image_height': 32,\n",
       "  'image_min_width': 32,\n",
       "  'image_max_width': 512},\n",
       " 'dataloader': {'num_workers': 3, 'pin_memory': True},\n",
       " 'aug': {'image_aug': True, 'masked_language_model': True},\n",
       " 'predictor': {'beamsearch': False},\n",
       " 'quiet': False,\n",
       " 'pretrain': 'https://vocr.vn/data/vietocr/vgg_transformer.pth',\n",
       " 'weights': 'https://vocr.vn/data/vietocr/vgg_transformer.pth',\n",
       " 'backbone': 'vgg19_bn',\n",
       " 'cnn': {'pretrained': True,\n",
       "  'ss': [[2, 2], [2, 2], [2, 1], [2, 1], [1, 1]],\n",
       "  'ks': [[2, 2], [2, 2], [2, 1], [2, 1], [1, 1]],\n",
       "  'hidden': 256}}"
      ]
     },
     "execution_count": 2,
     "metadata": {},
     "output_type": "execute_result"
    }
   ],
   "source": [
    "from vietocr.tool.config import Cfg\n",
    "from vietocr.tool.translate import process_image\n",
    "\n",
    "config = Cfg.load_config_from_name(\"vgg_transformer\")\n",
    "config['device'] = 'cpu'\n",
    "config"
   ]
  },
  {
   "cell_type": "code",
   "execution_count": 3,
   "metadata": {},
   "outputs": [],
   "source": [
    "import numpy as np\n",
    "\n",
    "def preprocess_batch(list_img):\n",
    "    total_img = len(list_img)\n",
    "    # Get max shape\n",
    "    batch_width = 0\n",
    "    batch_list = []\n",
    "    for idx, img in enumerate(list_img):\n",
    "        img = process_image(img, config['dataset']['image_height'], \n",
    "                config['dataset']['image_min_width'], config['dataset']['image_max_width'])\n",
    "        im_width = img.shape[2]\n",
    "        if im_width > batch_width:\n",
    "            batch_width = im_width\n",
    "        batch_list.append(img) \n",
    "    # Create batch\n",
    "    batch = np.ones((total_img, 3, config['dataset']['image_height'], batch_width))\n",
    "    for idx, single in enumerate(batch_list):\n",
    "        _, height, width = single.shape\n",
    "        batch[idx, :, :, :width] = single\n",
    "    return batch"
   ]
  },
  {
   "cell_type": "code",
   "execution_count": 4,
   "metadata": {},
   "outputs": [
    {
     "data": {
      "text/plain": [
       "['./imgs/test.png', './imgs/test_2.png', './imgs/test_3.png']"
      ]
     },
     "execution_count": 4,
     "metadata": {},
     "output_type": "execute_result"
    }
   ],
   "source": [
    "import utility\n",
    "import os\n",
    "\n",
    "img_dir = \"./imgs\"\n",
    "fnames = os.listdir(img_dir)\n",
    "fpaths = [os.path.join(img_dir, fname) for fname in fnames if fname.endswith('png')]\n",
    "fpaths"
   ]
  },
  {
   "cell_type": "code",
   "execution_count": 5,
   "metadata": {},
   "outputs": [
    {
     "data": {
      "text/plain": [
       "array([[[[0.99215686, 0.98431373, 0.97647059, ..., 1.        ,\n",
       "          1.        , 1.        ],\n",
       "         [0.99215686, 0.98431373, 0.97647059, ..., 1.        ,\n",
       "          1.        , 1.        ],\n",
       "         [0.99215686, 0.98823529, 0.98431373, ..., 1.        ,\n",
       "          1.        , 1.        ],\n",
       "         ...,\n",
       "         [0.96470588, 0.98039216, 0.96078431, ..., 1.        ,\n",
       "          1.        , 1.        ],\n",
       "         [0.96862745, 0.96862745, 0.97254902, ..., 1.        ,\n",
       "          1.        , 1.        ],\n",
       "         [0.97254902, 0.95294118, 0.96078431, ..., 1.        ,\n",
       "          1.        , 1.        ]],\n",
       "\n",
       "        [[0.99215686, 0.98431373, 0.97647059, ..., 1.        ,\n",
       "          1.        , 1.        ],\n",
       "         [0.99215686, 0.98431373, 0.97647059, ..., 1.        ,\n",
       "          1.        , 1.        ],\n",
       "         [0.99215686, 0.98823529, 0.98431373, ..., 1.        ,\n",
       "          1.        , 1.        ],\n",
       "         ...,\n",
       "         [0.96470588, 0.97647059, 0.95686275, ..., 1.        ,\n",
       "          1.        , 1.        ],\n",
       "         [0.96862745, 0.96470588, 0.96862745, ..., 1.        ,\n",
       "          1.        , 1.        ],\n",
       "         [0.97254902, 0.94901961, 0.95686275, ..., 1.        ,\n",
       "          1.        , 1.        ]],\n",
       "\n",
       "        [[0.99607843, 0.99215686, 0.98431373, ..., 1.        ,\n",
       "          1.        , 1.        ],\n",
       "         [0.99607843, 0.99215686, 0.98431373, ..., 1.        ,\n",
       "          1.        , 1.        ],\n",
       "         [0.99607843, 0.99607843, 0.99215686, ..., 1.        ,\n",
       "          1.        , 1.        ],\n",
       "         ...,\n",
       "         [0.97254902, 0.99215686, 0.97647059, ..., 1.        ,\n",
       "          1.        , 1.        ],\n",
       "         [0.97647059, 0.98431373, 0.98823529, ..., 1.        ,\n",
       "          1.        , 1.        ],\n",
       "         [0.98431373, 0.96862745, 0.97647059, ..., 1.        ,\n",
       "          1.        , 1.        ]]],\n",
       "\n",
       "\n",
       "       [[[0.90196078, 0.90196078, 0.90588235, ..., 0.90588235,\n",
       "          0.90588235, 0.90588235],\n",
       "         [0.90196078, 0.90196078, 0.89803922, ..., 0.89803922,\n",
       "          0.89803922, 0.89803922],\n",
       "         [0.90196078, 0.90196078, 0.89803922, ..., 0.89411765,\n",
       "          0.89411765, 0.89411765],\n",
       "         ...,\n",
       "         [0.89411765, 0.91764706, 0.96470588, ..., 0.98039216,\n",
       "          0.98431373, 0.98431373],\n",
       "         [0.89411765, 0.91764706, 0.96078431, ..., 0.98431373,\n",
       "          0.98823529, 0.98823529],\n",
       "         [0.89411765, 0.91764706, 0.95686275, ..., 0.98431373,\n",
       "          0.98823529, 0.98823529]],\n",
       "\n",
       "        [[0.90196078, 0.90196078, 0.90588235, ..., 0.90588235,\n",
       "          0.90588235, 0.90588235],\n",
       "         [0.90196078, 0.90196078, 0.89803922, ..., 0.89803922,\n",
       "          0.89803922, 0.89803922],\n",
       "         [0.90196078, 0.90196078, 0.89803922, ..., 0.89411765,\n",
       "          0.89411765, 0.89411765],\n",
       "         ...,\n",
       "         [0.89411765, 0.91764706, 0.95686275, ..., 0.97254902,\n",
       "          0.97647059, 0.97647059],\n",
       "         [0.89411765, 0.91372549, 0.95294118, ..., 0.97647059,\n",
       "          0.98039216, 0.98039216],\n",
       "         [0.89411765, 0.91372549, 0.95294118, ..., 0.97647059,\n",
       "          0.98039216, 0.98039216]],\n",
       "\n",
       "        [[0.90196078, 0.90196078, 0.90588235, ..., 0.90588235,\n",
       "          0.90588235, 0.90588235],\n",
       "         [0.90196078, 0.90196078, 0.89803922, ..., 0.89803922,\n",
       "          0.89803922, 0.89803922],\n",
       "         [0.90196078, 0.90196078, 0.89803922, ..., 0.89411765,\n",
       "          0.89411765, 0.89411765],\n",
       "         ...,\n",
       "         [0.89019608, 0.92156863, 0.96862745, ..., 0.98431373,\n",
       "          0.98823529, 0.98823529],\n",
       "         [0.89411765, 0.91764706, 0.96470588, ..., 0.98823529,\n",
       "          0.99215686, 0.99215686],\n",
       "         [0.89411765, 0.91764706, 0.96078431, ..., 0.98823529,\n",
       "          0.99215686, 0.99215686]]],\n",
       "\n",
       "\n",
       "       [[[0.77647059, 0.77647059, 0.76862745, ..., 1.        ,\n",
       "          1.        , 1.        ],\n",
       "         [0.75686275, 0.78039216, 0.78039216, ..., 1.        ,\n",
       "          1.        , 1.        ],\n",
       "         [0.74901961, 0.77254902, 0.76862745, ..., 1.        ,\n",
       "          1.        , 1.        ],\n",
       "         ...,\n",
       "         [0.67058824, 0.69411765, 0.6627451 , ..., 1.        ,\n",
       "          1.        , 1.        ],\n",
       "         [0.68235294, 0.68235294, 0.63137255, ..., 1.        ,\n",
       "          1.        , 1.        ],\n",
       "         [0.68627451, 0.68235294, 0.61568627, ..., 1.        ,\n",
       "          1.        , 1.        ]],\n",
       "\n",
       "        [[0.75686275, 0.75686275, 0.75686275, ..., 1.        ,\n",
       "          1.        , 1.        ],\n",
       "         [0.75294118, 0.77254902, 0.77647059, ..., 1.        ,\n",
       "          1.        , 1.        ],\n",
       "         [0.74901961, 0.77254902, 0.76862745, ..., 1.        ,\n",
       "          1.        , 1.        ],\n",
       "         ...,\n",
       "         [0.63137255, 0.65490196, 0.64705882, ..., 1.        ,\n",
       "          1.        , 1.        ],\n",
       "         [0.69019608, 0.69803922, 0.6627451 , ..., 1.        ,\n",
       "          1.        , 1.        ],\n",
       "         [0.73333333, 0.73333333, 0.68627451, ..., 1.        ,\n",
       "          1.        , 1.        ]],\n",
       "\n",
       "        [[0.76078431, 0.76470588, 0.76078431, ..., 1.        ,\n",
       "          1.        , 1.        ],\n",
       "         [0.74509804, 0.76862745, 0.76862745, ..., 1.        ,\n",
       "          1.        , 1.        ],\n",
       "         [0.73333333, 0.75686275, 0.75294118, ..., 1.        ,\n",
       "          1.        , 1.        ],\n",
       "         ...,\n",
       "         [0.61176471, 0.63529412, 0.61960784, ..., 1.        ,\n",
       "          1.        , 1.        ],\n",
       "         [0.65882353, 0.6627451 , 0.61960784, ..., 1.        ,\n",
       "          1.        , 1.        ],\n",
       "         [0.69411765, 0.69019608, 0.63529412, ..., 1.        ,\n",
       "          1.        , 1.        ]]]])"
      ]
     },
     "execution_count": 5,
     "metadata": {},
     "output_type": "execute_result"
    }
   ],
   "source": [
    "from PIL import Image\n",
    "\n",
    "list_img = [Image.open(fpath) for fpath in fpaths]\n",
    "batch = preprocess_batch(list_img)\n",
    "batch"
   ]
  },
  {
   "cell_type": "code",
   "execution_count": 6,
   "metadata": {},
   "outputs": [],
   "source": [
    "batch = batch.copy().astype('float32')"
   ]
  },
  {
   "cell_type": "code",
   "execution_count": 7,
   "metadata": {},
   "outputs": [
    {
     "name": "stdout",
     "output_type": "stream",
     "text": [
      "(170, 3, 256)\n"
     ]
    }
   ],
   "source": [
    "inp = {en_sess.get_inputs()[0].name: batch}\n",
    "res = en_sess.run(None, inp)\n",
    "print(res[0].shape)"
   ]
  },
  {
   "cell_type": "code",
   "execution_count": 8,
   "metadata": {},
   "outputs": [
    {
     "name": "stdout",
     "output_type": "stream",
     "text": [
      "[0.9317984122496384, 0.9224570412789622, 0.9078623235225678]\n",
      "[  1 171  78  60  96 232  44   4 232  92  76  12  42   2 232 144  76  12\n",
      "  42   2 232 144  76  12 100   2  98  76   2   2   2  96] 0.9317984122496384\n",
      "[  1 145  76   4  98  76 232 175 146  28  98 232 212 232  77   6 232  99\n",
      " 122  78 232 212 232 171  78  70 144 232  99   4  96   2] 0.9224570412789622\n",
      "[  1 191 198 194 194 193 191 195 191 195   2 195   2   2   2   2   2   2\n",
      "   2   2   2   2   2   2   2   2   2 190 190 190 190 190] 0.9078623235225678\n"
     ]
    }
   ],
   "source": [
    "from vietocr.tool.translate import translate_onnx\n",
    "sents, probs= translate_onnx(batch, encoder_sess=en_sess, decoder_sess=de_sess)\n",
    "for sen, prob in zip(sents, probs):\n",
    "    print(sen, prob)"
   ]
  },
  {
   "cell_type": "code",
   "execution_count": 9,
   "metadata": {},
   "outputs": [],
   "source": [
    "from vietocr.tool.translate import build_model\n",
    "\n",
    "model, vocab = build_model(config)"
   ]
  },
  {
   "cell_type": "code",
   "execution_count": 11,
   "metadata": {},
   "outputs": [
    {
     "name": "stdout",
     "output_type": "stream",
     "text": [
      "Viêm da khác\n",
      "Thanh Xuân - Hà Nội - Việt Nam\n",
      "184431515\n"
     ]
    }
   ],
   "source": [
    "for i, s in enumerate(sents):\n",
    "    s = sents[i].tolist()\n",
    "    s = vocab.decode(s)\n",
    "    print(s)"
   ]
  }
 ],
 "metadata": {
  "kernelspec": {
   "display_name": "kie-ner",
   "language": "python",
   "name": "python3"
  },
  "language_info": {
   "codemirror_mode": {
    "name": "ipython",
    "version": 3
   },
   "file_extension": ".py",
   "mimetype": "text/x-python",
   "name": "python",
   "nbconvert_exporter": "python",
   "pygments_lexer": "ipython3",
   "version": "3.9.6"
  },
  "orig_nbformat": 4
 },
 "nbformat": 4,
 "nbformat_minor": 2
}
