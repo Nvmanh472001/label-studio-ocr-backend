{
 "cells": [
  {
   "cell_type": "code",
   "execution_count": 1,
   "metadata": {},
   "outputs": [],
   "source": [
    "import onnxruntime as ort\n",
    "\n",
    "en_sess = ort.InferenceSession(\"./onnx/ocr_encoder.onnx\")\n",
    "de_sess = ort.InferenceSession(\"./onnx/ocr_decoder.onnx\")"
   ]
  },
  {
   "cell_type": "code",
   "execution_count": 2,
   "metadata": {},
   "outputs": [
    {
     "name": "stderr",
     "output_type": "stream",
     "text": [
      "/home/lhnguyen/.miniconda3/envs/kie-ner/lib/python3.9/site-packages/tqdm/auto.py:21: TqdmWarning: IProgress not found. Please update jupyter and ipywidgets. See https://ipywidgets.readthedocs.io/en/stable/user_install.html\n",
      "  from .autonotebook import tqdm as notebook_tqdm\n"
     ]
    },
    {
     "data": {
      "text/plain": [
       "{'vocab': 'aAàÀảẢãÃáÁạẠăĂằẰẳẲẵẴắẮặẶâÂầẦẩẨẫẪấẤậẬbBcCdDđĐeEèÈẻẺẽẼéÉẹẸêÊềỀểỂễỄếẾệỆfFgGhHiIìÌỉỈĩĨíÍịỊjJkKlLmMnNoOòÒỏỎõÕóÓọỌôÔồỒổỔỗỖốỐộỘơƠờỜởỞỡỠớỚợỢpPqQrRsStTuUùÙủỦũŨúÚụỤưƯừỪửỬữỮứỨựỰvVwWxXyYỳỲỷỶỹỸýÝỵỴzZ0123456789!\"#$%&\\'()*+,-./:;<=>?@[\\\\]^_`{|}~ ',\n",
       " 'device': 'cpu',\n",
       " 'seq_modeling': 'transformer',\n",
       " 'transformer': {'d_model': 256,\n",
       "  'nhead': 8,\n",
       "  'num_encoder_layers': 6,\n",
       "  'num_decoder_layers': 6,\n",
       "  'dim_feedforward': 2048,\n",
       "  'max_seq_length': 1024,\n",
       "  'pos_dropout': 0.1,\n",
       "  'trans_dropout': 0.1},\n",
       " 'optimizer': {'max_lr': 0.0003, 'pct_start': 0.1},\n",
       " 'trainer': {'batch_size': 32,\n",
       "  'print_every': 200,\n",
       "  'valid_every': 4000,\n",
       "  'iters': 100000,\n",
       "  'export': './weights/transformerocr.pth',\n",
       "  'checkpoint': './checkpoint/transformerocr_checkpoint.pth',\n",
       "  'log': './train.log',\n",
       "  'metrics': None},\n",
       " 'dataset': {'name': 'data',\n",
       "  'data_root': './img/',\n",
       "  'train_annotation': 'annotation_train.txt',\n",
       "  'valid_annotation': 'annotation_val_small.txt',\n",
       "  'image_height': 32,\n",
       "  'image_min_width': 32,\n",
       "  'image_max_width': 512},\n",
       " 'dataloader': {'num_workers': 3, 'pin_memory': True},\n",
       " 'aug': {'image_aug': True, 'masked_language_model': True},\n",
       " 'predictor': {'beamsearch': False},\n",
       " 'quiet': False,\n",
       " 'pretrain': 'https://vocr.vn/data/vietocr/vgg_transformer.pth',\n",
       " 'weights': 'https://vocr.vn/data/vietocr/vgg_transformer.pth',\n",
       " 'backbone': 'vgg19_bn',\n",
       " 'cnn': {'pretrained': True,\n",
       "  'ss': [[2, 2], [2, 2], [2, 1], [2, 1], [1, 1]],\n",
       "  'ks': [[2, 2], [2, 2], [2, 1], [2, 1], [1, 1]],\n",
       "  'hidden': 256}}"
      ]
     },
     "execution_count": 2,
     "metadata": {},
     "output_type": "execute_result"
    }
   ],
   "source": [
    "from vietocr.tool.config import Cfg\n",
    "from vietocr.tool.translate import process_image\n",
    "\n",
    "config = Cfg.load_config_from_name(\"vgg_transformer\")\n",
    "config['device'] = 'cpu'\n",
    "config"
   ]
  },
  {
   "cell_type": "code",
   "execution_count": 3,
   "metadata": {},
   "outputs": [],
   "source": [
    "import numpy as np\n",
    "\n",
    "def preprocess_batch(list_img):\n",
    "    total_img = len(list_img)\n",
    "    # Get max shape\n",
    "    batch_width = 0\n",
    "    batch_list = []\n",
    "    for idx, img in enumerate(list_img):\n",
    "        img = process_image(img, config['dataset']['image_height'], \n",
    "                config['dataset']['image_min_width'], config['dataset']['image_max_width'])\n",
    "        im_width = img.shape[2]\n",
    "        if im_width > batch_width:\n",
    "            batch_width = im_width\n",
    "        batch_list.append(img) \n",
    "    # Create batch\n",
    "    batch = np.ones((total_img, 3, config['dataset']['image_height'], batch_width))\n",
    "    for idx, single in enumerate(batch_list):\n",
    "        _, height, width = single.shape\n",
    "        batch[idx, :, :, :width] = single\n",
    "    return batch"
   ]
  },
  {
   "cell_type": "code",
   "execution_count": 4,
   "metadata": {},
   "outputs": [
    {
     "data": {
      "text/plain": [
       "['./imgs/test.png', './imgs/test_2.png', './imgs/test_3.png']"
      ]
     },
     "execution_count": 4,
     "metadata": {},
     "output_type": "execute_result"
    }
   ],
   "source": [
    "import utility\n",
    "import os\n",
    "\n",
    "img_dir = \"./imgs\"\n",
    "fnames = os.listdir(img_dir)\n",
    "fpaths = [os.path.join(img_dir, fname) for fname in fnames if fname.endswith('png')]\n",
    "fpaths"
   ]
  },
  {
   "cell_type": "code",
   "execution_count": 5,
   "metadata": {},
   "outputs": [
    {
     "data": {
      "text/plain": [
       "array([[[[0.99215686, 0.98431373, 0.97647059, ..., 1.        ,\n",
       "          1.        , 1.        ],\n",
       "         [0.99215686, 0.98431373, 0.97647059, ..., 1.        ,\n",
       "          1.        , 1.        ],\n",
       "         [0.99215686, 0.98823529, 0.98431373, ..., 1.        ,\n",
       "          1.        , 1.        ],\n",
       "         ...,\n",
       "         [0.96470588, 0.98039216, 0.96078431, ..., 1.        ,\n",
       "          1.        , 1.        ],\n",
       "         [0.96862745, 0.96862745, 0.97254902, ..., 1.        ,\n",
       "          1.        , 1.        ],\n",
       "         [0.97254902, 0.95294118, 0.96078431, ..., 1.        ,\n",
       "          1.        , 1.        ]],\n",
       "\n",
       "        [[0.99215686, 0.98431373, 0.97647059, ..., 1.        ,\n",
       "          1.        , 1.        ],\n",
       "         [0.99215686, 0.98431373, 0.97647059, ..., 1.        ,\n",
       "          1.        , 1.        ],\n",
       "         [0.99215686, 0.98823529, 0.98431373, ..., 1.        ,\n",
       "          1.        , 1.        ],\n",
       "         ...,\n",
       "         [0.96470588, 0.97647059, 0.95686275, ..., 1.        ,\n",
       "          1.        , 1.        ],\n",
       "         [0.96862745, 0.96470588, 0.96862745, ..., 1.        ,\n",
       "          1.        , 1.        ],\n",
       "         [0.97254902, 0.94901961, 0.95686275, ..., 1.        ,\n",
       "          1.        , 1.        ]],\n",
       "\n",
       "        [[0.99607843, 0.99215686, 0.98431373, ..., 1.        ,\n",
       "          1.        , 1.        ],\n",
       "         [0.99607843, 0.99215686, 0.98431373, ..., 1.        ,\n",
       "          1.        , 1.        ],\n",
       "         [0.99607843, 0.99607843, 0.99215686, ..., 1.        ,\n",
       "          1.        , 1.        ],\n",
       "         ...,\n",
       "         [0.97254902, 0.99215686, 0.97647059, ..., 1.        ,\n",
       "          1.        , 1.        ],\n",
       "         [0.97647059, 0.98431373, 0.98823529, ..., 1.        ,\n",
       "          1.        , 1.        ],\n",
       "         [0.98431373, 0.96862745, 0.97647059, ..., 1.        ,\n",
       "          1.        , 1.        ]]],\n",
       "\n",
       "\n",
       "       [[[0.90196078, 0.90196078, 0.90588235, ..., 0.90588235,\n",
       "          0.90588235, 0.90588235],\n",
       "         [0.90196078, 0.90196078, 0.89803922, ..., 0.89803922,\n",
       "          0.89803922, 0.89803922],\n",
       "         [0.90196078, 0.90196078, 0.89803922, ..., 0.89411765,\n",
       "          0.89411765, 0.89411765],\n",
       "         ...,\n",
       "         [0.89411765, 0.91764706, 0.96470588, ..., 0.98039216,\n",
       "          0.98431373, 0.98431373],\n",
       "         [0.89411765, 0.91764706, 0.96078431, ..., 0.98431373,\n",
       "          0.98823529, 0.98823529],\n",
       "         [0.89411765, 0.91764706, 0.95686275, ..., 0.98431373,\n",
       "          0.98823529, 0.98823529]],\n",
       "\n",
       "        [[0.90196078, 0.90196078, 0.90588235, ..., 0.90588235,\n",
       "          0.90588235, 0.90588235],\n",
       "         [0.90196078, 0.90196078, 0.89803922, ..., 0.89803922,\n",
       "          0.89803922, 0.89803922],\n",
       "         [0.90196078, 0.90196078, 0.89803922, ..., 0.89411765,\n",
       "          0.89411765, 0.89411765],\n",
       "         ...,\n",
       "         [0.89411765, 0.91764706, 0.95686275, ..., 0.97254902,\n",
       "          0.97647059, 0.97647059],\n",
       "         [0.89411765, 0.91372549, 0.95294118, ..., 0.97647059,\n",
       "          0.98039216, 0.98039216],\n",
       "         [0.89411765, 0.91372549, 0.95294118, ..., 0.97647059,\n",
       "          0.98039216, 0.98039216]],\n",
       "\n",
       "        [[0.90196078, 0.90196078, 0.90588235, ..., 0.90588235,\n",
       "          0.90588235, 0.90588235],\n",
       "         [0.90196078, 0.90196078, 0.89803922, ..., 0.89803922,\n",
       "          0.89803922, 0.89803922],\n",
       "         [0.90196078, 0.90196078, 0.89803922, ..., 0.89411765,\n",
       "          0.89411765, 0.89411765],\n",
       "         ...,\n",
       "         [0.89019608, 0.92156863, 0.96862745, ..., 0.98431373,\n",
       "          0.98823529, 0.98823529],\n",
       "         [0.89411765, 0.91764706, 0.96470588, ..., 0.98823529,\n",
       "          0.99215686, 0.99215686],\n",
       "         [0.89411765, 0.91764706, 0.96078431, ..., 0.98823529,\n",
       "          0.99215686, 0.99215686]]],\n",
       "\n",
       "\n",
       "       [[[0.77647059, 0.77647059, 0.76862745, ..., 1.        ,\n",
       "          1.        , 1.        ],\n",
       "         [0.75686275, 0.78039216, 0.78039216, ..., 1.        ,\n",
       "          1.        , 1.        ],\n",
       "         [0.74901961, 0.77254902, 0.76862745, ..., 1.        ,\n",
       "          1.        , 1.        ],\n",
       "         ...,\n",
       "         [0.67058824, 0.69411765, 0.6627451 , ..., 1.        ,\n",
       "          1.        , 1.        ],\n",
       "         [0.68235294, 0.68235294, 0.63137255, ..., 1.        ,\n",
       "          1.        , 1.        ],\n",
       "         [0.68627451, 0.68235294, 0.61568627, ..., 1.        ,\n",
       "          1.        , 1.        ]],\n",
       "\n",
       "        [[0.75686275, 0.75686275, 0.75686275, ..., 1.        ,\n",
       "          1.        , 1.        ],\n",
       "         [0.75294118, 0.77254902, 0.77647059, ..., 1.        ,\n",
       "          1.        , 1.        ],\n",
       "         [0.74901961, 0.77254902, 0.76862745, ..., 1.        ,\n",
       "          1.        , 1.        ],\n",
       "         ...,\n",
       "         [0.63137255, 0.65490196, 0.64705882, ..., 1.        ,\n",
       "          1.        , 1.        ],\n",
       "         [0.69019608, 0.69803922, 0.6627451 , ..., 1.        ,\n",
       "          1.        , 1.        ],\n",
       "         [0.73333333, 0.73333333, 0.68627451, ..., 1.        ,\n",
       "          1.        , 1.        ]],\n",
       "\n",
       "        [[0.76078431, 0.76470588, 0.76078431, ..., 1.        ,\n",
       "          1.        , 1.        ],\n",
       "         [0.74509804, 0.76862745, 0.76862745, ..., 1.        ,\n",
       "          1.        , 1.        ],\n",
       "         [0.73333333, 0.75686275, 0.75294118, ..., 1.        ,\n",
       "          1.        , 1.        ],\n",
       "         ...,\n",
       "         [0.61176471, 0.63529412, 0.61960784, ..., 1.        ,\n",
       "          1.        , 1.        ],\n",
       "         [0.65882353, 0.6627451 , 0.61960784, ..., 1.        ,\n",
       "          1.        , 1.        ],\n",
       "         [0.69411765, 0.69019608, 0.63529412, ..., 1.        ,\n",
       "          1.        , 1.        ]]]])"
      ]
     },
     "execution_count": 5,
     "metadata": {},
     "output_type": "execute_result"
    }
   ],
   "source": [
    "from PIL import Image\n",
    "\n",
    "list_img = [Image.open(fpath) for fpath in fpaths]\n",
    "batch = preprocess_batch(list_img)\n",
    "batch"
   ]
  },
  {
   "cell_type": "code",
   "execution_count": 6,
   "metadata": {},
   "outputs": [],
   "source": [
    "batch = batch.copy().astype('float32')"
   ]
  },
  {
   "cell_type": "code",
   "execution_count": 7,
   "metadata": {},
   "outputs": [
    {
     "name": "stdout",
     "output_type": "stream",
     "text": [
      "(170, 3, 256)\n"
     ]
    }
   ],
   "source": [
    "inp = {en_sess.get_inputs()[0].name: batch}\n",
    "res = en_sess.run(None, inp)\n",
    "print(res[0].shape)"
   ]
  },
  {
   "cell_type": "code",
   "execution_count": 8,
   "metadata": {},
   "outputs": [
    {
     "name": "stdout",
     "output_type": "stream",
     "text": [
      "[0.9317984122496384, 0.9224570412789622, 0.9078623235225678]\n",
      "[  1 171  78  60  96 232  44   4 232  92  76  12  42   2 232 144  76  12\n",
      "  42   2 232 144  76  12 100   2  98  76   2   2   2  96] 0.9317984122496384\n",
      "[  1 145  76   4  98  76 232 175 146  28  98 232 212 232  77   6 232  99\n",
      " 122  78 232 212 232 171  78  70 144 232  99   4  96   2] 0.9224570412789622\n",
      "[  1 191 198 194 194 193 191 195 191 195   2 195   2   2   2   2   2   2\n",
      "   2   2   2   2   2   2   2   2   2 190 190 190 190 190] 0.9078623235225678\n"
     ]
    }
   ],
   "source": [
    "from vietocr.tool.translate import translate_onnx\n",
    "sents, probs= translate_onnx(batch, encoder_sess=en_sess, decoder_sess=de_sess)\n",
    "for sen, prob in zip(sents, probs):\n",
    "    print(sen, prob)"
   ]
  },
  {
   "cell_type": "code",
   "execution_count": 9,
   "metadata": {},
   "outputs": [],
   "source": [
    "from vietocr.tool.translate import build_model\n",
    "\n",
    "model, vocab = build_model(config)"
   ]
  },
  {
   "cell_type": "code",
   "execution_count": 11,
   "metadata": {},
   "outputs": [
    {
     "name": "stdout",
     "output_type": "stream",
     "text": [
      "Viêm da khác\n",
      "Thanh Xuân - Hà Nội - Việt Nam\n",
      "184431515\n"
     ]
    }
   ],
   "source": [
    "for i, s in enumerate(sents):\n",
    "    s = sents[i].tolist()\n",
    "    s = vocab.decode(s)\n",
    "    print(s)"
   ]
  },
  {
   "cell_type": "code",
   "execution_count": 5,
   "metadata": {},
   "outputs": [
    {
     "name": "stderr",
     "output_type": "stream",
     "text": [
      "usage: ipykernel_launcher.py [-h] [--use_gpu USE_GPU] [--use_onnx USE_ONNX]\n",
      "                             [--det_algorithm DET_ALGORITHM]\n",
      "                             [--det_model_dir DET_MODEL_DIR]\n",
      "                             [--det_limit_side_len DET_LIMIT_SIDE_LEN]\n",
      "                             [--det_limit_type DET_LIMIT_TYPE]\n",
      "                             [--det_box_type DET_BOX_TYPE]\n",
      "                             [--det_db_thresh DET_DB_THRESH]\n",
      "                             [--det_db_box_thresh DET_DB_BOX_THRESH]\n",
      "                             [--det_db_unclip_ratio DET_DB_UNCLIP_RATIO]\n",
      "                             [--max_batch_size MAX_BATCH_SIZE]\n",
      "                             [--use_dilation USE_DILATION]\n",
      "                             [--det_db_score_mode DET_DB_SCORE_MODE]\n",
      "ipykernel_launcher.py: error: unrecognized arguments: --ip=127.0.0.1 --stdin=9016 --control=9014 --hb=9013 --Session.signature_scheme=\"hmac-sha256\" --Session.key=b\"37f2dcfb-70f5-419f-9813-e199d3436d88\" --shell=9015 --transport=\"tcp\" --iopub=9017 --f=/home/lhnguyen/.local/share/jupyter/runtime/kernel-v2-4013iyvWviPoMN42.json\n"
     ]
    },
    {
     "ename": "SystemExit",
     "evalue": "2",
     "output_type": "error",
     "traceback": [
      "An exception has occurred, use %tb to see the full traceback.\n",
      "\u001b[0;31mSystemExit\u001b[0m\u001b[0;31m:\u001b[0m 2\n"
     ]
    }
   ],
   "source": [
    "import argparse\n",
    "\n",
    "def str2bool(v):\n",
    "    return v.lower() in (\"true\", \"t\", \"1\")\n",
    "\n",
    "\n",
    "parser = argparse.ArgumentParser()\n",
    "parser.add_argument(\"--use_gpu\", type=str2bool, default=False)\n",
    "parser.add_argument(\"--use_onnx\", type=str2bool, default=False)\n",
    "\n",
    "# params for text detector\n",
    "parser.add_argument(\"--det_algorithm\", type=str, default='DB')\n",
    "parser.add_argument(\"--det_model_dir\", type=str)\n",
    "parser.add_argument(\"--det_limit_side_len\", type=float, default=960)\n",
    "parser.add_argument(\"--det_limit_type\", type=str, default='max')\n",
    "parser.add_argument(\"--det_box_type\", type=str, default='quad')\n",
    "\n",
    "# DB parmas\n",
    "parser.add_argument(\"--det_db_thresh\", type=float, default=0.3)\n",
    "parser.add_argument(\"--det_db_box_thresh\", type=float, default=0.6)\n",
    "parser.add_argument(\"--det_db_unclip_ratio\", type=float, default=1.5)\n",
    "parser.add_argument(\"--max_batch_size\", type=int, default=10)\n",
    "parser.add_argument(\"--use_dilation\", type=str2bool, default=False)\n",
    "parser.add_argument(\"--det_db_score_mode\", type=str, default=\"fast\")\n",
    "\n",
    "args = parser.parse_args()\n",
    "args.use_gpu"
   ]
  },
  {
   "cell_type": "code",
   "execution_count": 3,
   "metadata": {},
   "outputs": [
    {
     "name": "stderr",
     "output_type": "stream",
     "text": [
      "usage: ipykernel_launcher.py [-h] [--use_gpu USE_GPU] [--use_xpu USE_XPU]\n",
      "                             [--use_npu USE_NPU] [--ir_optim IR_OPTIM]\n",
      "                             [--use_tensorrt USE_TENSORRT]\n",
      "                             [--min_subgraph_size MIN_SUBGRAPH_SIZE]\n",
      "                             [--precision PRECISION] [--gpu_mem GPU_MEM]\n",
      "                             [--image_dir IMAGE_DIR] [--page_num PAGE_NUM]\n",
      "                             [--det_algorithm DET_ALGORITHM]\n",
      "                             [--det_model_dir DET_MODEL_DIR]\n",
      "                             [--det_limit_side_len DET_LIMIT_SIDE_LEN]\n",
      "                             [--det_limit_type DET_LIMIT_TYPE]\n",
      "                             [--det_box_type DET_BOX_TYPE]\n",
      "                             [--det_db_thresh DET_DB_THRESH]\n",
      "                             [--det_db_box_thresh DET_DB_BOX_THRESH]\n",
      "                             [--det_db_unclip_ratio DET_DB_UNCLIP_RATIO]\n",
      "                             [--max_batch_size MAX_BATCH_SIZE]\n",
      "                             [--use_dilation USE_DILATION]\n",
      "                             [--det_db_score_mode DET_DB_SCORE_MODE]\n",
      "                             [--det_east_score_thresh DET_EAST_SCORE_THRESH]\n",
      "                             [--det_east_cover_thresh DET_EAST_COVER_THRESH]\n",
      "                             [--det_east_nms_thresh DET_EAST_NMS_THRESH]\n",
      "                             [--det_sast_score_thresh DET_SAST_SCORE_THRESH]\n",
      "                             [--det_sast_nms_thresh DET_SAST_NMS_THRESH]\n",
      "                             [--det_pse_thresh DET_PSE_THRESH]\n",
      "                             [--det_pse_box_thresh DET_PSE_BOX_THRESH]\n",
      "                             [--det_pse_min_area DET_PSE_MIN_AREA]\n",
      "                             [--det_pse_scale DET_PSE_SCALE] [--scales SCALES]\n",
      "                             [--alpha ALPHA] [--beta BETA]\n",
      "                             [--fourier_degree FOURIER_DEGREE]\n",
      "                             [--rec_algorithm REC_ALGORITHM]\n",
      "                             [--rec_model_dir REC_MODEL_DIR]\n",
      "                             [--rec_image_inverse REC_IMAGE_INVERSE]\n",
      "                             [--rec_image_shape REC_IMAGE_SHAPE]\n",
      "                             [--rec_batch_num REC_BATCH_NUM]\n",
      "                             [--max_text_length MAX_TEXT_LENGTH]\n",
      "                             [--rec_char_dict_path REC_CHAR_DICT_PATH]\n",
      "                             [--use_space_char USE_SPACE_CHAR]\n",
      "                             [--vis_font_path VIS_FONT_PATH]\n",
      "                             [--drop_score DROP_SCORE]\n",
      "                             [--e2e_algorithm E2E_ALGORITHM]\n",
      "                             [--e2e_model_dir E2E_MODEL_DIR]\n",
      "                             [--e2e_limit_side_len E2E_LIMIT_SIDE_LEN]\n",
      "                             [--e2e_limit_type E2E_LIMIT_TYPE]\n",
      "                             [--e2e_pgnet_score_thresh E2E_PGNET_SCORE_THRESH]\n",
      "                             [--e2e_char_dict_path E2E_CHAR_DICT_PATH]\n",
      "                             [--e2e_pgnet_valid_set E2E_PGNET_VALID_SET]\n",
      "                             [--e2e_pgnet_mode E2E_PGNET_MODE]\n",
      "                             [--use_angle_cls USE_ANGLE_CLS]\n",
      "                             [--cls_model_dir CLS_MODEL_DIR]\n",
      "                             [--cls_image_shape CLS_IMAGE_SHAPE]\n",
      "                             [--label_list LABEL_LIST]\n",
      "                             [--cls_batch_num CLS_BATCH_NUM]\n",
      "                             [--cls_thresh CLS_THRESH]\n",
      "                             [--enable_mkldnn ENABLE_MKLDNN]\n",
      "                             [--cpu_threads CPU_THREADS]\n",
      "                             [--use_pdserving USE_PDSERVING] [--warmup WARMUP]\n",
      "                             [--sr_model_dir SR_MODEL_DIR]\n",
      "                             [--sr_image_shape SR_IMAGE_SHAPE]\n",
      "                             [--sr_batch_num SR_BATCH_NUM]\n",
      "                             [--draw_img_save_dir DRAW_IMG_SAVE_DIR]\n",
      "                             [--save_crop_res SAVE_CROP_RES]\n",
      "                             [--crop_res_save_dir CROP_RES_SAVE_DIR]\n",
      "                             [--use_mp USE_MP]\n",
      "                             [--total_process_num TOTAL_PROCESS_NUM]\n",
      "                             [--process_id PROCESS_ID] [--benchmark BENCHMARK]\n",
      "                             [--save_log_path SAVE_LOG_PATH]\n",
      "                             [--show_log SHOW_LOG] [--use_onnx USE_ONNX]\n",
      "ipykernel_launcher.py: error: argument --fourier_degree: invalid int value: '/home/lhnguyen/.local/share/jupyter/runtime/kernel-v2-4013iyvWviPoMN42.json'\n"
     ]
    },
    {
     "ename": "AttributeError",
     "evalue": "'tuple' object has no attribute 'tb_frame'",
     "output_type": "error",
     "traceback": [
      "\u001b[0;31m---------------------------------------------------------------------------\u001b[0m",
      "\u001b[0;31mValueError\u001b[0m                                Traceback (most recent call last)",
      "File \u001b[0;32m~/.miniconda3/envs/kie-ner/lib/python3.9/argparse.py:2483\u001b[0m, in \u001b[0;36mArgumentParser._get_value\u001b[0;34m(self, action, arg_string)\u001b[0m\n\u001b[1;32m   2482\u001b[0m \u001b[39mtry\u001b[39;00m:\n\u001b[0;32m-> 2483\u001b[0m     result \u001b[39m=\u001b[39m type_func(arg_string)\n\u001b[1;32m   2485\u001b[0m \u001b[39m# ArgumentTypeErrors indicate errors\u001b[39;00m\n",
      "\u001b[0;31mValueError\u001b[0m: invalid literal for int() with base 10: '/home/lhnguyen/.local/share/jupyter/runtime/kernel-v2-4013iyvWviPoMN42.json'",
      "\nDuring handling of the above exception, another exception occurred:\n",
      "\u001b[0;31mArgumentError\u001b[0m                             Traceback (most recent call last)",
      "File \u001b[0;32m~/.miniconda3/envs/kie-ner/lib/python3.9/argparse.py:1858\u001b[0m, in \u001b[0;36mArgumentParser.parse_known_args\u001b[0;34m(self, args, namespace)\u001b[0m\n\u001b[1;32m   1857\u001b[0m \u001b[39mtry\u001b[39;00m:\n\u001b[0;32m-> 1858\u001b[0m     namespace, args \u001b[39m=\u001b[39m \u001b[39mself\u001b[39;49m\u001b[39m.\u001b[39;49m_parse_known_args(args, namespace)\n\u001b[1;32m   1859\u001b[0m \u001b[39mexcept\u001b[39;00m ArgumentError:\n",
      "File \u001b[0;32m~/.miniconda3/envs/kie-ner/lib/python3.9/argparse.py:2067\u001b[0m, in \u001b[0;36mArgumentParser._parse_known_args\u001b[0;34m(self, arg_strings, namespace)\u001b[0m\n\u001b[1;32m   2066\u001b[0m     \u001b[39m# consume the next optional and any arguments for it\u001b[39;00m\n\u001b[0;32m-> 2067\u001b[0m     start_index \u001b[39m=\u001b[39m consume_optional(start_index)\n\u001b[1;32m   2069\u001b[0m \u001b[39m# consume any positionals following the last Optional\u001b[39;00m\n",
      "File \u001b[0;32m~/.miniconda3/envs/kie-ner/lib/python3.9/argparse.py:2007\u001b[0m, in \u001b[0;36mArgumentParser._parse_known_args.<locals>.consume_optional\u001b[0;34m(start_index)\u001b[0m\n\u001b[1;32m   2006\u001b[0m \u001b[39mfor\u001b[39;00m action, args, option_string \u001b[39min\u001b[39;00m action_tuples:\n\u001b[0;32m-> 2007\u001b[0m     take_action(action, args, option_string)\n\u001b[1;32m   2008\u001b[0m \u001b[39mreturn\u001b[39;00m stop\n",
      "File \u001b[0;32m~/.miniconda3/envs/kie-ner/lib/python3.9/argparse.py:1919\u001b[0m, in \u001b[0;36mArgumentParser._parse_known_args.<locals>.take_action\u001b[0;34m(action, argument_strings, option_string)\u001b[0m\n\u001b[1;32m   1918\u001b[0m seen_actions\u001b[39m.\u001b[39madd(action)\n\u001b[0;32m-> 1919\u001b[0m argument_values \u001b[39m=\u001b[39m \u001b[39mself\u001b[39;49m\u001b[39m.\u001b[39;49m_get_values(action, argument_strings)\n\u001b[1;32m   1921\u001b[0m \u001b[39m# error if this argument is not allowed with other previously\u001b[39;00m\n\u001b[1;32m   1922\u001b[0m \u001b[39m# seen arguments, assuming that actions that use the default\u001b[39;00m\n\u001b[1;32m   1923\u001b[0m \u001b[39m# value don't really count as \"present\"\u001b[39;00m\n",
      "File \u001b[0;32m~/.miniconda3/envs/kie-ner/lib/python3.9/argparse.py:2450\u001b[0m, in \u001b[0;36mArgumentParser._get_values\u001b[0;34m(self, action, arg_strings)\u001b[0m\n\u001b[1;32m   2449\u001b[0m arg_string, \u001b[39m=\u001b[39m arg_strings\n\u001b[0;32m-> 2450\u001b[0m value \u001b[39m=\u001b[39m \u001b[39mself\u001b[39;49m\u001b[39m.\u001b[39;49m_get_value(action, arg_string)\n\u001b[1;32m   2451\u001b[0m \u001b[39mself\u001b[39m\u001b[39m.\u001b[39m_check_value(action, value)\n",
      "File \u001b[0;32m~/.miniconda3/envs/kie-ner/lib/python3.9/argparse.py:2496\u001b[0m, in \u001b[0;36mArgumentParser._get_value\u001b[0;34m(self, action, arg_string)\u001b[0m\n\u001b[1;32m   2495\u001b[0m     msg \u001b[39m=\u001b[39m _(\u001b[39m'\u001b[39m\u001b[39minvalid \u001b[39m\u001b[39m%(type)s\u001b[39;00m\u001b[39m value: \u001b[39m\u001b[39m%(value)r\u001b[39;00m\u001b[39m'\u001b[39m)\n\u001b[0;32m-> 2496\u001b[0m     \u001b[39mraise\u001b[39;00m ArgumentError(action, msg \u001b[39m%\u001b[39m args)\n\u001b[1;32m   2498\u001b[0m \u001b[39m# return the converted value\u001b[39;00m\n",
      "\u001b[0;31mArgumentError\u001b[0m: argument --fourier_degree: invalid int value: '/home/lhnguyen/.local/share/jupyter/runtime/kernel-v2-4013iyvWviPoMN42.json'",
      "\nDuring handling of the above exception, another exception occurred:\n",
      "\u001b[0;31mSystemExit\u001b[0m                                Traceback (most recent call last)",
      "    \u001b[0;31m[... skipping hidden 1 frame]\u001b[0m\n",
      "Cell \u001b[0;32mIn[3], line 4\u001b[0m\n\u001b[1;32m      2\u001b[0m \u001b[39mfrom\u001b[39;00m \u001b[39mpaddleocr\u001b[39;00m\u001b[39m.\u001b[39;00m\u001b[39mtools\u001b[39;00m\u001b[39m.\u001b[39;00m\u001b[39minfer\u001b[39;00m\u001b[39m.\u001b[39;00m\u001b[39mpredict_det\u001b[39;00m \u001b[39mimport\u001b[39;00m TextDetector\n\u001b[0;32m----> 4\u001b[0m args \u001b[39m=\u001b[39m utility\u001b[39m.\u001b[39;49mparse_args()\n\u001b[1;32m      5\u001b[0m text_det \u001b[39m=\u001b[39m TextDetector(args)\n",
      "File \u001b[0;32m~/.miniconda3/envs/kie-ner/lib/python3.9/site-packages/paddleocr/tools/infer/utility.py:152\u001b[0m, in \u001b[0;36mparse_args\u001b[0;34m()\u001b[0m\n\u001b[1;32m    151\u001b[0m parser \u001b[39m=\u001b[39m init_args()\n\u001b[0;32m--> 152\u001b[0m \u001b[39mreturn\u001b[39;00m parser\u001b[39m.\u001b[39;49mparse_args()\n",
      "File \u001b[0;32m~/.miniconda3/envs/kie-ner/lib/python3.9/argparse.py:1825\u001b[0m, in \u001b[0;36mArgumentParser.parse_args\u001b[0;34m(self, args, namespace)\u001b[0m\n\u001b[1;32m   1824\u001b[0m \u001b[39mdef\u001b[39;00m \u001b[39mparse_args\u001b[39m(\u001b[39mself\u001b[39m, args\u001b[39m=\u001b[39m\u001b[39mNone\u001b[39;00m, namespace\u001b[39m=\u001b[39m\u001b[39mNone\u001b[39;00m):\n\u001b[0;32m-> 1825\u001b[0m     args, argv \u001b[39m=\u001b[39m \u001b[39mself\u001b[39;49m\u001b[39m.\u001b[39;49mparse_known_args(args, namespace)\n\u001b[1;32m   1826\u001b[0m     \u001b[39mif\u001b[39;00m argv:\n",
      "File \u001b[0;32m~/.miniconda3/envs/kie-ner/lib/python3.9/argparse.py:1861\u001b[0m, in \u001b[0;36mArgumentParser.parse_known_args\u001b[0;34m(self, args, namespace)\u001b[0m\n\u001b[1;32m   1860\u001b[0m         err \u001b[39m=\u001b[39m _sys\u001b[39m.\u001b[39mexc_info()[\u001b[39m1\u001b[39m]\n\u001b[0;32m-> 1861\u001b[0m         \u001b[39mself\u001b[39;49m\u001b[39m.\u001b[39;49merror(\u001b[39mstr\u001b[39;49m(err))\n\u001b[1;32m   1862\u001b[0m \u001b[39melse\u001b[39;00m:\n",
      "File \u001b[0;32m~/.miniconda3/envs/kie-ner/lib/python3.9/argparse.py:2582\u001b[0m, in \u001b[0;36mArgumentParser.error\u001b[0;34m(self, message)\u001b[0m\n\u001b[1;32m   2581\u001b[0m args \u001b[39m=\u001b[39m {\u001b[39m'\u001b[39m\u001b[39mprog\u001b[39m\u001b[39m'\u001b[39m: \u001b[39mself\u001b[39m\u001b[39m.\u001b[39mprog, \u001b[39m'\u001b[39m\u001b[39mmessage\u001b[39m\u001b[39m'\u001b[39m: message}\n\u001b[0;32m-> 2582\u001b[0m \u001b[39mself\u001b[39;49m\u001b[39m.\u001b[39;49mexit(\u001b[39m2\u001b[39;49m, _(\u001b[39m'\u001b[39;49m\u001b[39m%(prog)s\u001b[39;49;00m\u001b[39m: error: \u001b[39;49m\u001b[39m%(message)s\u001b[39;49;00m\u001b[39m\\n\u001b[39;49;00m\u001b[39m'\u001b[39;49m) \u001b[39m%\u001b[39;49m args)\n",
      "File \u001b[0;32m~/.miniconda3/envs/kie-ner/lib/python3.9/argparse.py:2569\u001b[0m, in \u001b[0;36mArgumentParser.exit\u001b[0;34m(self, status, message)\u001b[0m\n\u001b[1;32m   2568\u001b[0m     \u001b[39mself\u001b[39m\u001b[39m.\u001b[39m_print_message(message, _sys\u001b[39m.\u001b[39mstderr)\n\u001b[0;32m-> 2569\u001b[0m _sys\u001b[39m.\u001b[39;49mexit(status)\n",
      "\u001b[0;31mSystemExit\u001b[0m: 2",
      "\nDuring handling of the above exception, another exception occurred:\n",
      "\u001b[0;31mAttributeError\u001b[0m                            Traceback (most recent call last)",
      "    \u001b[0;31m[... skipping hidden 1 frame]\u001b[0m\n",
      "File \u001b[0;32m~/.miniconda3/envs/kie-ner/lib/python3.9/site-packages/IPython/core/interactiveshell.py:2047\u001b[0m, in \u001b[0;36mInteractiveShell.showtraceback\u001b[0;34m(self, exc_tuple, filename, tb_offset, exception_only, running_compiled_code)\u001b[0m\n\u001b[1;32m   2044\u001b[0m \u001b[39mif\u001b[39;00m exception_only:\n\u001b[1;32m   2045\u001b[0m     stb \u001b[39m=\u001b[39m [\u001b[39m'\u001b[39m\u001b[39mAn exception has occurred, use \u001b[39m\u001b[39m%\u001b[39m\u001b[39mtb to see \u001b[39m\u001b[39m'\u001b[39m\n\u001b[1;32m   2046\u001b[0m            \u001b[39m'\u001b[39m\u001b[39mthe full traceback.\u001b[39m\u001b[39m\\n\u001b[39;00m\u001b[39m'\u001b[39m]\n\u001b[0;32m-> 2047\u001b[0m     stb\u001b[39m.\u001b[39mextend(\u001b[39mself\u001b[39;49m\u001b[39m.\u001b[39;49mInteractiveTB\u001b[39m.\u001b[39;49mget_exception_only(etype,\n\u001b[1;32m   2048\u001b[0m                                                      value))\n\u001b[1;32m   2049\u001b[0m \u001b[39melse\u001b[39;00m:\n\u001b[1;32m   2050\u001b[0m     \u001b[39mtry\u001b[39;00m:\n\u001b[1;32m   2051\u001b[0m         \u001b[39m# Exception classes can customise their traceback - we\u001b[39;00m\n\u001b[1;32m   2052\u001b[0m         \u001b[39m# use this in IPython.parallel for exceptions occurring\u001b[39;00m\n\u001b[1;32m   2053\u001b[0m         \u001b[39m# in the engines. This should return a list of strings.\u001b[39;00m\n",
      "File \u001b[0;32m~/.miniconda3/envs/kie-ner/lib/python3.9/site-packages/IPython/core/ultratb.py:636\u001b[0m, in \u001b[0;36mListTB.get_exception_only\u001b[0;34m(self, etype, value)\u001b[0m\n\u001b[1;32m    628\u001b[0m \u001b[39mdef\u001b[39;00m \u001b[39mget_exception_only\u001b[39m(\u001b[39mself\u001b[39m, etype, value):\n\u001b[1;32m    629\u001b[0m \u001b[39m    \u001b[39m\u001b[39m\"\"\"Only print the exception type and message, without a traceback.\u001b[39;00m\n\u001b[1;32m    630\u001b[0m \n\u001b[1;32m    631\u001b[0m \u001b[39m    Parameters\u001b[39;00m\n\u001b[0;32m   (...)\u001b[0m\n\u001b[1;32m    634\u001b[0m \u001b[39m    value : exception value\u001b[39;00m\n\u001b[1;32m    635\u001b[0m \u001b[39m    \"\"\"\u001b[39;00m\n\u001b[0;32m--> 636\u001b[0m     \u001b[39mreturn\u001b[39;00m ListTB\u001b[39m.\u001b[39;49mstructured_traceback(\u001b[39mself\u001b[39;49m, etype, value)\n",
      "File \u001b[0;32m~/.miniconda3/envs/kie-ner/lib/python3.9/site-packages/IPython/core/ultratb.py:503\u001b[0m, in \u001b[0;36mListTB.structured_traceback\u001b[0;34m(self, etype, evalue, etb, tb_offset, context)\u001b[0m\n\u001b[1;32m    500\u001b[0m     chained_exc_ids\u001b[39m.\u001b[39madd(\u001b[39mid\u001b[39m(exception[\u001b[39m1\u001b[39m]))\n\u001b[1;32m    501\u001b[0m     chained_exceptions_tb_offset \u001b[39m=\u001b[39m \u001b[39m0\u001b[39m\n\u001b[1;32m    502\u001b[0m     out_list \u001b[39m=\u001b[39m (\n\u001b[0;32m--> 503\u001b[0m         \u001b[39mself\u001b[39;49m\u001b[39m.\u001b[39;49mstructured_traceback(\n\u001b[1;32m    504\u001b[0m             etype, evalue, (etb, chained_exc_ids),\n\u001b[1;32m    505\u001b[0m             chained_exceptions_tb_offset, context)\n\u001b[1;32m    506\u001b[0m         \u001b[39m+\u001b[39m chained_exception_message\n\u001b[1;32m    507\u001b[0m         \u001b[39m+\u001b[39m out_list)\n\u001b[1;32m    509\u001b[0m \u001b[39mreturn\u001b[39;00m out_list\n",
      "File \u001b[0;32m~/.miniconda3/envs/kie-ner/lib/python3.9/site-packages/IPython/core/ultratb.py:1288\u001b[0m, in \u001b[0;36mAutoFormattedTB.structured_traceback\u001b[0;34m(self, etype, value, tb, tb_offset, number_of_lines_of_context)\u001b[0m\n\u001b[1;32m   1286\u001b[0m \u001b[39melse\u001b[39;00m:\n\u001b[1;32m   1287\u001b[0m     \u001b[39mself\u001b[39m\u001b[39m.\u001b[39mtb \u001b[39m=\u001b[39m tb\n\u001b[0;32m-> 1288\u001b[0m \u001b[39mreturn\u001b[39;00m FormattedTB\u001b[39m.\u001b[39;49mstructured_traceback(\n\u001b[1;32m   1289\u001b[0m     \u001b[39mself\u001b[39;49m, etype, value, tb, tb_offset, number_of_lines_of_context)\n",
      "File \u001b[0;32m~/.miniconda3/envs/kie-ner/lib/python3.9/site-packages/IPython/core/ultratb.py:1177\u001b[0m, in \u001b[0;36mFormattedTB.structured_traceback\u001b[0;34m(self, etype, value, tb, tb_offset, number_of_lines_of_context)\u001b[0m\n\u001b[1;32m   1174\u001b[0m mode \u001b[39m=\u001b[39m \u001b[39mself\u001b[39m\u001b[39m.\u001b[39mmode\n\u001b[1;32m   1175\u001b[0m \u001b[39mif\u001b[39;00m mode \u001b[39min\u001b[39;00m \u001b[39mself\u001b[39m\u001b[39m.\u001b[39mverbose_modes:\n\u001b[1;32m   1176\u001b[0m     \u001b[39m# Verbose modes need a full traceback\u001b[39;00m\n\u001b[0;32m-> 1177\u001b[0m     \u001b[39mreturn\u001b[39;00m VerboseTB\u001b[39m.\u001b[39;49mstructured_traceback(\n\u001b[1;32m   1178\u001b[0m         \u001b[39mself\u001b[39;49m, etype, value, tb, tb_offset, number_of_lines_of_context\n\u001b[1;32m   1179\u001b[0m     )\n\u001b[1;32m   1180\u001b[0m \u001b[39melif\u001b[39;00m mode \u001b[39m==\u001b[39m \u001b[39m'\u001b[39m\u001b[39mMinimal\u001b[39m\u001b[39m'\u001b[39m:\n\u001b[1;32m   1181\u001b[0m     \u001b[39mreturn\u001b[39;00m ListTB\u001b[39m.\u001b[39mget_exception_only(\u001b[39mself\u001b[39m, etype, value)\n",
      "File \u001b[0;32m~/.miniconda3/envs/kie-ner/lib/python3.9/site-packages/IPython/core/ultratb.py:1030\u001b[0m, in \u001b[0;36mVerboseTB.structured_traceback\u001b[0;34m(self, etype, evalue, etb, tb_offset, number_of_lines_of_context)\u001b[0m\n\u001b[1;32m   1021\u001b[0m \u001b[39mdef\u001b[39;00m \u001b[39mstructured_traceback\u001b[39m(\n\u001b[1;32m   1022\u001b[0m     \u001b[39mself\u001b[39m,\n\u001b[1;32m   1023\u001b[0m     etype: \u001b[39mtype\u001b[39m,\n\u001b[0;32m   (...)\u001b[0m\n\u001b[1;32m   1027\u001b[0m     number_of_lines_of_context: \u001b[39mint\u001b[39m \u001b[39m=\u001b[39m \u001b[39m5\u001b[39m,\n\u001b[1;32m   1028\u001b[0m ):\n\u001b[1;32m   1029\u001b[0m \u001b[39m    \u001b[39m\u001b[39m\"\"\"Return a nice text document describing the traceback.\"\"\"\u001b[39;00m\n\u001b[0;32m-> 1030\u001b[0m     formatted_exception \u001b[39m=\u001b[39m \u001b[39mself\u001b[39;49m\u001b[39m.\u001b[39;49mformat_exception_as_a_whole(etype, evalue, etb, number_of_lines_of_context,\n\u001b[1;32m   1031\u001b[0m                                                            tb_offset)\n\u001b[1;32m   1033\u001b[0m     colors \u001b[39m=\u001b[39m \u001b[39mself\u001b[39m\u001b[39m.\u001b[39mColors  \u001b[39m# just a shorthand + quicker name lookup\u001b[39;00m\n\u001b[1;32m   1034\u001b[0m     colorsnormal \u001b[39m=\u001b[39m colors\u001b[39m.\u001b[39mNormal  \u001b[39m# used a lot\u001b[39;00m\n",
      "File \u001b[0;32m~/.miniconda3/envs/kie-ner/lib/python3.9/site-packages/IPython/core/ultratb.py:935\u001b[0m, in \u001b[0;36mVerboseTB.format_exception_as_a_whole\u001b[0;34m(self, etype, evalue, etb, number_of_lines_of_context, tb_offset)\u001b[0m\n\u001b[1;32m    932\u001b[0m \u001b[39massert\u001b[39;00m \u001b[39misinstance\u001b[39m(tb_offset, \u001b[39mint\u001b[39m)\n\u001b[1;32m    933\u001b[0m head \u001b[39m=\u001b[39m \u001b[39mself\u001b[39m\u001b[39m.\u001b[39mprepare_header(etype, \u001b[39mself\u001b[39m\u001b[39m.\u001b[39mlong_header)\n\u001b[1;32m    934\u001b[0m records \u001b[39m=\u001b[39m (\n\u001b[0;32m--> 935\u001b[0m     \u001b[39mself\u001b[39;49m\u001b[39m.\u001b[39;49mget_records(etb, number_of_lines_of_context, tb_offset) \u001b[39mif\u001b[39;00m etb \u001b[39melse\u001b[39;00m []\n\u001b[1;32m    936\u001b[0m )\n\u001b[1;32m    938\u001b[0m frames \u001b[39m=\u001b[39m []\n\u001b[1;32m    939\u001b[0m skipped \u001b[39m=\u001b[39m \u001b[39m0\u001b[39m\n",
      "File \u001b[0;32m~/.miniconda3/envs/kie-ner/lib/python3.9/site-packages/IPython/core/ultratb.py:1002\u001b[0m, in \u001b[0;36mVerboseTB.get_records\u001b[0;34m(self, etb, number_of_lines_of_context, tb_offset)\u001b[0m\n\u001b[1;32m   1000\u001b[0m tbs \u001b[39m=\u001b[39m []\n\u001b[1;32m   1001\u001b[0m \u001b[39mwhile\u001b[39;00m cf \u001b[39mis\u001b[39;00m \u001b[39mnot\u001b[39;00m \u001b[39mNone\u001b[39;00m:\n\u001b[0;32m-> 1002\u001b[0m     source_file \u001b[39m=\u001b[39m inspect\u001b[39m.\u001b[39mgetsourcefile(etb\u001b[39m.\u001b[39;49mtb_frame)\n\u001b[1;32m   1003\u001b[0m     lines, first \u001b[39m=\u001b[39m inspect\u001b[39m.\u001b[39mgetsourcelines(etb\u001b[39m.\u001b[39mtb_frame)\n\u001b[1;32m   1004\u001b[0m     max_len \u001b[39m=\u001b[39m \u001b[39mmax\u001b[39m(max_len, first \u001b[39m+\u001b[39m \u001b[39mlen\u001b[39m(lines))\n",
      "\u001b[0;31mAttributeError\u001b[0m: 'tuple' object has no attribute 'tb_frame'"
     ]
    }
   ],
   "source": [
    "import paddleocr.tools.infer.utility as utility\n",
    "from paddleocr.tools.infer.predict_det import TextDetector\n",
    "\n",
    "args = utility.parse_args()\n",
    "text_det = TextDetector(args)"
   ]
  },
  {
   "cell_type": "code",
   "execution_count": null,
   "metadata": {},
   "outputs": [],
   "source": []
  }
 ],
 "metadata": {
  "kernelspec": {
   "display_name": "kie-ner",
   "language": "python",
   "name": "python3"
  },
  "language_info": {
   "codemirror_mode": {
    "name": "ipython",
    "version": 3
   },
   "file_extension": ".py",
   "mimetype": "text/x-python",
   "name": "python",
   "nbconvert_exporter": "python",
   "pygments_lexer": "ipython3",
   "version": "3.9.16"
  },
  "orig_nbformat": 4
 },
 "nbformat": 4,
 "nbformat_minor": 2
}
