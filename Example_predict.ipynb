{
  "nbformat": 4,
  "nbformat_minor": 0,
  "metadata": {
    "colab": {
      "provenance": []
    },
    "kernelspec": {
      "name": "python3",
      "display_name": "Python 3"
    },
    "language_info": {
      "name": "python"
    }
  },
  "cells": [
    {
      "cell_type": "code",
      "execution_count": null,
      "metadata": {
        "id": "r-hqwRLFyxJw"
      },
      "outputs": [],
      "source": [
        "!git clone -b nguyenthanh https://github.com/Nvmanh472001/label-studio-ocr-backend"
      ]
    },
    {
      "cell_type": "code",
      "execution_count": null,
      "metadata": {
        "id": "0menXR_9DWCn"
      },
      "outputs": [],
      "source": [
        "%cd /content/label-studio-ocr-backend"
      ]
    },
    {
      "cell_type": "code",
      "execution_count": null,
      "metadata": {
        "id": "uNnNYrcH5IWv"
      },
      "outputs": [],
      "source": [
        "!apt-get install poppler-utils \n",
        "# !pip install --ignore-installed pymupdf==1.19.0"
      ]
    },
    {
      "cell_type": "code",
      "execution_count": null,
      "metadata": {
        "id": "-vTYzwpC25W9"
      },
      "outputs": [],
      "source": [
        "!pip install -q -r requirements.txt"
      ]
    },
    {
      "cell_type": "code",
      "execution_count": null,
      "metadata": {
        "id": "Hk1ig4pwhwQW"
      },
      "outputs": [],
      "source": [
        "!wget -nc -P ./inference https://paddleocr.bj.bcebos.com/PP-OCRv3/english/en_PP-OCRv3_det_infer.tar\n",
        "!cd ./inference && tar xf en_PP-OCRv3_det_infer.tar && cd .."
      ]
    },
    {
      "cell_type": "code",
      "execution_count": null,
      "metadata": {
        "id": "h7-COZjk29pg"
      },
      "outputs": [],
      "source": [
        "!paddle2onnx --model_dir ./inference/en_PP-OCRv3_det_infer \\\n",
        "--model_filename inference.pdmodel \\\n",
        "--params_filename inference.pdiparams \\\n",
        "--save_file ./onnx/detection.onnx \\\n",
        "--opset_version 12 \\\n",
        "--input_shape_dict=\"{'x':[-1,3,-1,-1]}\" \\\n",
        "--enable_onnx_checker True"
      ]
    },
    {
      "cell_type": "code",
      "execution_count": null,
      "metadata": {
        "id": "mPsMNmjTKZx3"
      },
      "outputs": [],
      "source": [
        "!wget -nc -P ./inference https://paddleocr.bj.bcebos.com/PP-OCRv3/english/en_PP-OCRv3_rec_infer.tar\n",
        "!cd ./inference && tar xf en_PP-OCRv3_rec_infer.tar && cd .."
      ]
    },
    {
      "cell_type": "code",
      "execution_count": null,
      "metadata": {
        "id": "-1co6kmLKaD1"
      },
      "outputs": [],
      "source": [
        "!paddle2onnx --model_dir inference/en_PP-OCRv3_rec_infer \\\n",
        "--model_filename inference.pdmodel \\\n",
        "--params_filename inference.pdiparams \\\n",
        "--save_file onnx/Recognizer.onnx \\\n",
        "--opset_version 12 \\\n",
        "--input_shape_dict=\"{'x':[-1,3,-1,-1]}\" \\\n",
        "--enable_onnx_checker True"
      ]
    },
    {
      "cell_type": "code",
      "execution_count": null,
      "metadata": {
        "id": "gdgCNLncm8Yf"
      },
      "outputs": [],
      "source": [
        "!wget https://dl.fbaipublicfiles.com/fasttext/supervised-models/lid.176.bin\n",
        "!wget https://github.com/facebookresearch/fastText/archive/v0.9.2.zip\n",
        "!unzip v0.9.2.zip\n",
        "%cd fastText-0.9.2\n",
        "!make\n",
        "!pip install .\n",
        "%cd .."
      ]
    },
    {
      "cell_type": "code",
      "source": [
        "!python3 new_infer.py"
      ],
      "metadata": {
        "id": "uZVzJ16LmKVR"
      },
      "execution_count": null,
      "outputs": []
    }
  ]
}